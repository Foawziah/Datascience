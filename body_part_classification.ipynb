{
  "cells": [
    {
      "cell_type": "markdown",
      "metadata": {
        "id": "view-in-github",
        "colab_type": "text"
      },
      "source": [
        "<a href=\"https://colab.research.google.com/github/Foawziah/Datascience/blob/master/body_part_classification.ipynb\" target=\"_parent\"><img src=\"https://colab.research.google.com/assets/colab-badge.svg\" alt=\"Open In Colab\"/></a>"
      ]
    },
    {
      "cell_type": "code",
      "source": [
        "#mounting google drive\n",
        "from google.colab import drive\n",
        "drive.mount('/content/drive')"
      ],
      "metadata": {
        "colab": {
          "base_uri": "https://localhost:8080/"
        },
        "id": "NATcq7fqV_PA",
        "outputId": "2903850f-4270-493f-d655-bde88f704e7c"
      },
      "id": "NATcq7fqV_PA",
      "execution_count": null,
      "outputs": [
        {
          "output_type": "stream",
          "name": "stdout",
          "text": [
            "Mounted at /content/drive\n"
          ]
        }
      ]
    },
    {
      "cell_type": "code",
      "execution_count": null,
      "id": "8533cf80",
      "metadata": {
        "id": "8533cf80"
      },
      "outputs": [],
      "source": [
        "#importing all required packages\n",
        "import os\n",
        "import numpy as np\n",
        "from keras import layers\n",
        "from keras import models\n",
        "from tensorflow.keras.applications import VGG16\n",
        "from keras.preprocessing.image import ImageDataGenerator\n",
        "from tensorflow.keras import optimizers\n",
        "from tensorflow.keras import regularizers\n",
        "from sklearn.metrics import confusion_matrix\n",
        "import seaborn as sns"
      ]
    },
    {
      "cell_type": "code",
      "execution_count": null,
      "id": "41d46ec3",
      "metadata": {
        "id": "41d46ec3",
        "outputId": "5038fe17-7714-459d-b967-1e559fd5de45",
        "colab": {
          "base_uri": "https://localhost:8080/"
        }
      },
      "outputs": [
        {
          "output_type": "stream",
          "name": "stdout",
          "text": [
            "Model: \"sequential_1\"\n",
            "_________________________________________________________________\n",
            " Layer (type)                Output Shape              Param #   \n",
            "=================================================================\n",
            " vgg16 (Functional)          (None, 4, 4, 512)         14714688  \n",
            "                                                                 \n",
            " flatten_1 (Flatten)         (None, 8192)              0         \n",
            "                                                                 \n",
            " dense_2 (Dense)             (None, 256)               2097408   \n",
            "                                                                 \n",
            " dropout_1 (Dropout)         (None, 256)               0         \n",
            "                                                                 \n",
            " dense_3 (Dense)             (None, 9)                 2313      \n",
            "                                                                 \n",
            "=================================================================\n",
            "Total params: 16,814,409\n",
            "Trainable params: 16,814,409\n",
            "Non-trainable params: 0\n",
            "_________________________________________________________________\n"
          ]
        }
      ],
      "source": [
        "#regularization parameter\n",
        "param=1e-3\n",
        "#pretrained model vgg16 for image classifiation\n",
        "conv_base = VGG16(weights='imagenet', \n",
        "                  include_top=False, \n",
        "                  input_shape=(150, 150, 3))\n",
        "#building the model using vgg16 as convolutional base to learn general features and dense layers\n",
        "model = models.Sequential()\n",
        "model.add(conv_base)\n",
        "#flattening convolutional base\n",
        "model.add(layers.Flatten())\n",
        "#using regularizers in dense layers to avoid overfitting\n",
        "model.add(layers.Dense(256, activation='relu',\n",
        "                      kernel_regularizer=regularizers.L2(param),\n",
        "                      bias_regularizer=regularizers.L2(param)))\n",
        "#dropping 30% of neurons to avoid overfitting\n",
        "model.add(layers.Dropout(0.3))\n",
        "#last layer consist of 9 output units as we have 9 classes in total\n",
        "model.add(layers.Dense(9, activation='softmax'))\n",
        "model.summary()"
      ]
    },
    {
      "cell_type": "code",
      "execution_count": null,
      "id": "b5e1b309",
      "metadata": {
        "id": "b5e1b309",
        "outputId": "e11ce3b1-eeb6-4098-adf7-333746013a43",
        "colab": {
          "base_uri": "https://localhost:8080/"
        }
      },
      "outputs": [
        {
          "output_type": "stream",
          "name": "stdout",
          "text": [
            "Found 1832 images belonging to 9 classes.\n",
            "Found 455 images belonging to 9 classes.\n"
          ]
        }
      ],
      "source": [
        "#directory which contains our data\n",
        "base_dir = '/content/drive/MyDrive/BodyPart'\n",
        "#directory for training data\n",
        "train_dir = os.path.join(base_dir, 'Training')\n",
        "#directory for testing data\n",
        "test_dir = os.path.join(base_dir, 'Testing')\n",
        "#datagenerator for training and validation data\n",
        "datagen = ImageDataGenerator(rescale=1./255,\n",
        "                             validation_split=0.2)#20% of training data is used for validation\n",
        "#training data\n",
        "train_generator = datagen.flow_from_directory(train_dir,\n",
        "                                                    target_size=(150, 150),\n",
        "                                                    batch_size=20,\n",
        "                                                    class_mode='categorical',\n",
        "                                                    subset='training')\n",
        "#validation data\n",
        "validation_generator = datagen.flow_from_directory(train_dir,\n",
        "                                                        target_size=(150, 150),\n",
        "                                                        batch_size=20,\n",
        "                                                        class_mode='categorical',\n",
        "                                                        subset='validation')\n"
      ]
    },
    {
      "cell_type": "code",
      "source": [
        "from google.colab import drive\n",
        "drive.mount('/content/drive')"
      ],
      "metadata": {
        "colab": {
          "base_uri": "https://localhost:8080/"
        },
        "id": "aPI6N0TB7CJQ",
        "outputId": "249ac743-110c-4f69-d8d5-5ee9846d5b2e"
      },
      "id": "aPI6N0TB7CJQ",
      "execution_count": null,
      "outputs": [
        {
          "output_type": "stream",
          "name": "stdout",
          "text": [
            "Drive already mounted at /content/drive; to attempt to forcibly remount, call drive.mount(\"/content/drive\", force_remount=True).\n"
          ]
        }
      ]
    },
    {
      "cell_type": "markdown",
      "source": [
        "# New Section"
      ],
      "metadata": {
        "id": "fwby3Dgomk8z"
      },
      "id": "fwby3Dgomk8z"
    },
    {
      "cell_type": "code",
      "execution_count": null,
      "id": "ec0ff26b",
      "metadata": {
        "id": "ec0ff26b",
        "outputId": "1b842708-974a-4ae3-cd14-39f8b3f75e27",
        "colab": {
          "base_uri": "https://localhost:8080/"
        }
      },
      "outputs": [
        {
          "output_type": "stream",
          "name": "stdout",
          "text": [
            "Epoch 1/5\n",
            "92/92 [==============================] - 66s 705ms/step - loss: 0.1459 - acc: 0.9842 - val_loss: 0.2080 - val_acc: 0.9670\n",
            "Epoch 2/5\n",
            "92/92 [==============================] - 64s 697ms/step - loss: 0.1302 - acc: 0.9858 - val_loss: 0.3013 - val_acc: 0.9451\n",
            "Epoch 3/5\n",
            "92/92 [==============================] - 64s 696ms/step - loss: 0.1587 - acc: 0.9798 - val_loss: 0.2600 - val_acc: 0.9495\n",
            "Epoch 4/5\n",
            "92/92 [==============================] - 64s 693ms/step - loss: 0.1289 - acc: 0.9842 - val_loss: 0.2750 - val_acc: 0.9560\n",
            "Epoch 5/5\n",
            "92/92 [==============================] - 64s 693ms/step - loss: 0.1052 - acc: 0.9951 - val_loss: 0.1899 - val_acc: 0.9802\n"
          ]
        }
      ],
      "source": [
        "#compiling the model\n",
        "model.compile(loss='categorical_crossentropy',\n",
        "              optimizer=optimizers.Adam(learning_rate=1e-4),\n",
        "              metrics=['acc'])\n",
        "#training the model\n",
        "history = model.fit(train_generator,\n",
        "                    epochs=5,\n",
        "                    batch_size=64,\n",
        "                    validation_data=validation_generator)\n",
        "model.save('/content/drive/MyDrive/BodyPart/model.h5')"
      ]
    },
    {
      "cell_type": "code",
      "execution_count": null,
      "id": "1b1ed177",
      "metadata": {
        "id": "1b1ed177",
        "colab": {
          "base_uri": "https://localhost:8080/",
          "height": 545
        },
        "outputId": "1db05c25-9d05-4b8c-9cad-b8552e051822"
      },
      "outputs": [
        {
          "output_type": "display_data",
          "data": {
            "image/png": "[encoded data removed]",
            "text/plain": [
              "<Figure size 432x288 with 1 Axes>"
            ]
          },
          "metadata": {
            "needs_background": "light"
          }
        },
        {
          "output_type": "display_data",
          "data": {
            "image/png": "[encoded data removed]",
            "text/plain": [
              "<Figure size 432x288 with 1 Axes>"
            ]
          },
          "metadata": {
            "needs_background": "light"
          }
        }
      ],
      "source": [
        "#plotting training and validation accuracy\n",
        "import matplotlib.pyplot as plt\n",
        "acc = history.history['acc']\n",
        "val_acc = history.history['val_acc']\n",
        "loss = history.history['loss']\n",
        "val_loss = history.history['val_loss']\n",
        "epochs = range(1, len(acc) + 1)\n",
        "plt.plot(epochs, acc, 'bo', label='Training acc')\n",
        "plt.plot(epochs, val_acc, 'b', label='Validation acc')\n",
        "plt.title('Training and validation accuracy')\n",
        "plt.legend()\n",
        "plt.figure()\n",
        "#plotting training and validation loss\n",
        "plt.plot(epochs, loss, 'bo', label='Training loss')\n",
        "plt.plot(epochs, val_loss, 'b', label='Validation loss')\n",
        "plt.title('Training and validation loss')\n",
        "plt.legend()\n",
        "plt.show()"
      ]
    },
    {
      "cell_type": "code",
      "execution_count": null,
      "id": "803c2e33",
      "metadata": {
        "id": "803c2e33",
        "colab": {
          "base_uri": "https://localhost:8080/"
        },
        "outputId": "de99c6d6-86f5-4c0c-da5d-cb8547b87dce"
      },
      "outputs": [
        {
          "output_type": "stream",
          "name": "stdout",
          "text": [
            "Found 293 images belonging to 9 classes.\n"
          ]
        }
      ],
      "source": [
        "#datagenerator for testing data\n",
        "test_datagen = ImageDataGenerator(rescale=1./255)\n",
        "#test data\n",
        "test_generator = test_datagen.flow_from_directory(test_dir,\n",
        "                                                  target_size=(150, 150),\n",
        "                                                  batch_size=20,\n",
        "\n",
        "                                                  class_mode='categorical')"
      ]
    },
    {
      "cell_type": "code",
      "execution_count": null,
      "id": "4dd08523",
      "metadata": {
        "id": "4dd08523",
        "colab": {
          "base_uri": "https://localhost:8080/"
        },
        "outputId": "9ac837cd-57bc-4907-816b-eaefcfb3868d"
      },
      "outputs": [
        {
          "output_type": "stream",
          "name": "stdout",
          "text": [
            "Confusion Matrix:\n",
            " [[ 0  4  2  4  4  3  4  5  4]\n",
            " [ 5  4  1  3  6  2  4  2  3]\n",
            " [ 3  1  4  4  6  2  3  2  5]\n",
            " [ 1  4  3  0 10  2  4  1  5]\n",
            " [ 8  7  7  6  7  4  5  7  5]\n",
            " [ 2  3  4  3  2  5  6  3  1]\n",
            " [ 4  5  2  4  4  2  2  1  4]\n",
            " [ 3  2  2  2  6  3  1  7  4]\n",
            " [ 5  3  5  2  7  1  3  2  2]]\n"
          ]
        }
      ],
      "source": [
        "#predicting the model for testing data\n",
        "y_pred= model.predict(test_generator)\n",
        "#testing labels\n",
        "y_true= test_generator.classes\n",
        "#finding confusion matrix for test data\n",
        "cnf_matrix= confusion_matrix(y_true,np.rint(y_pred).argmax(axis=1))\n",
        "print('Confusion Matrix:\\n',cnf_matrix)"
      ]
    },
    {
      "cell_type": "code",
      "execution_count": null,
      "id": "2d44fa84",
      "metadata": {
        "id": "2d44fa84"
      },
      "outputs": [],
      "source": [
        "#False Positives\n",
        "FP = cnf_matrix.sum(axis=0) - np.diag(cnf_matrix)\n",
        "#False Negatives\n",
        "FN = cnf_matrix.sum(axis=1) - np.diag(cnf_matrix)\n",
        "#True Positives\n",
        "TP = np.diag(cnf_matrix)\n",
        "#True Negatives\n",
        "TN = cnf_matrix.sum() - (FP + FN + TP)\n",
        "# Sensitivity, hit rate, recall, or true positive rate\n",
        "TPR = TP/(TP+FN)\n",
        "# Specificity or true negative rate\n",
        "TNR = TN/(TN+FP) \n",
        "# Precision or positive predictive value\n",
        "PPV = TP/(TP+FP)\n",
        "# Overall accuracy for each class\n",
        "ACC = (TP+TN)/(TP+FP+FN+TN)"
      ]
    },
    {
      "cell_type": "code",
      "execution_count": null,
      "id": "a6a89c83",
      "metadata": {
        "id": "a6a89c83",
        "colab": {
          "base_uri": "https://localhost:8080/"
        },
        "outputId": "9b69c9cd-1200-4ea3-9bfa-72b13079638a"
      },
      "outputs": [
        {
          "output_type": "stream",
          "name": "stdout",
          "text": [
            "Sensitivity:\n",
            " [0.1        0.13333333 0.16666667 0.13333333 0.25       0.03448276\n",
            " 0.03571429 0.13333333 0.16666667]\n",
            "Specificity:\n",
            " [0.88973384 0.90874525 0.8973384  0.90874525 0.8185654  0.90530303\n",
            " 0.89056604 0.89353612 0.91254753]\n",
            "Precision:\n",
            " [0.09375    0.14285714 0.15625    0.14285714 0.24561404 0.03846154\n",
            " 0.03333333 0.125      0.17857143]\n",
            "Overall Accuracy for each class:\n",
            " [0.80887372 0.82935154 0.8225256  0.82935154 0.70989761 0.81911263\n",
            " 0.80887372 0.81569966 0.83617747]\n"
          ]
        }
      ],
      "source": [
        "print('Sensitivity:\\n',TPR)\n",
        "print('Specificity:\\n',TNR)\n",
        "print('Precision:\\n',PPV)\n",
        "print('Overall Accuracy for each class:\\n',ACC)"
      ]
    },
    {
      "cell_type": "code",
      "source": [
        "#generating heat map for confusion matrix\n",
        "sns.heatmap(cnf_matrix, annot=True)"
      ],
      "metadata": {
        "colab": {
          "base_uri": "https://localhost:8080/",
          "height": 287
        },
        "id": "sS7hqoi8qpKu",
        "outputId": "1404174b-2cf0-4497-a268-4b66c0f97f30"
      },
      "id": "sS7hqoi8qpKu",
      "execution_count": null,
      "outputs": [
        {
          "output_type": "execute_result",
          "data": {
            "text/plain": [
              "<matplotlib.axes._subplots.AxesSubplot at 0x7fd816fd5b10>"
            ]
          },
          "metadata": {},
          "execution_count": 17
        },
        {
          "output_type": "display_data",
          "data": {
            "image/png": "[encoded data removed]",
            "text/plain": [
              "<Figure size 432x288 with 2 Axes>"
            ]
          },
          "metadata": {
            "needs_background": "light"
          }
        }
      ]
    }
  ],
  "metadata": {
    "kernelspec": {
      "display_name": "Python 3",
      "language": "python",
      "name": "python3"
    },
    "language_info": {
      "codemirror_mode": {
        "name": "ipython",
        "version": 3
      },
      "file_extension": ".py",
      "mimetype": "text/x-python",
      "name": "python",
      "nbconvert_exporter": "python",
      "pygments_lexer": "ipython3",
      "version": "3.8.8"
    },
    "colab": {
      "name": "body_part_classification.ipynb",
      "provenance": [],
      "collapsed_sections": [],
      "include_colab_link": true
    },
    "accelerator": "GPU"
  },
  "nbformat": 4,
  "nbformat_minor": 5
}